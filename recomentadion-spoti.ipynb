{
 "cells": [
  {
   "cell_type": "code",
   "execution_count": 2,
   "metadata": {},
   "outputs": [],
   "source": [
    "import pandas as pd\n",
    "from sklearn.preprocessing import StandardScaler\n",
    "from sklearn.metrics.pairwise import cosine_similarity\n",
    "from sklearn.cluster import KMeans\n",
    "\n",
    "from collections import Counter\n",
    "import random\n",
    "\n",
    "#Leemos archivos csv en los dataframes\n",
    "\n",
    "user_o_df = pd.read_csv('User_O.csv')\n",
    "user_j_df = pd.read_csv('User_J.csv')\n",
    "user_b_df = pd.read_csv('User_B.csv')\n",
    "user_a_df = pd.read_csv('User_A.csv')\n",
    "spotify_songs_df = pd.read_csv('spotify_songs.csv')\n",
    "\n"
   ]
  }
 ],
 "metadata": {
  "kernelspec": {
   "display_name": "Python 3",
   "language": "python",
   "name": "python3"
  },
  "language_info": {
   "codemirror_mode": {
    "name": "ipython",
    "version": 3
   },
   "file_extension": ".py",
   "mimetype": "text/x-python",
   "name": "python",
   "nbconvert_exporter": "python",
   "pygments_lexer": "ipython3",
   "version": "3.9.0"
  }
 },
 "nbformat": 4,
 "nbformat_minor": 2
}
